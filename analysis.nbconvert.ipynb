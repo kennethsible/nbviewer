{
 "cells": [
  {
   "cell_type": "code",
   "execution_count": 1,
   "metadata": {
    "execution": {
     "iopub.execute_input": "2023-11-23T13:09:59.909175Z",
     "iopub.status.busy": "2023-11-23T13:09:59.909035Z",
     "iopub.status.idle": "2023-11-23T13:24:30.752834Z",
     "shell.execute_reply": "2023-11-23T13:24:30.752254Z"
    }
   },
   "outputs": [
    {
     "name": "stdout",
     "output_type": "stream",
     "text": [
      "BLEU = 27.2180900373935373 | CHRF = 54.8283282098783502 | Elapsed Time = 0:14:25.305514\r\n"
     ]
    }
   ],
   "source": [
    "!python score.py --model dict_base.pt \\\n",
    "    --test data/testing/data.norm.tok.bpe.deen \\\n",
    "    --seed 127 \\"
   ]
  },
  {
   "cell_type": "code",
   "execution_count": 2,
   "metadata": {
    "execution": {
     "iopub.execute_input": "2023-11-23T13:24:30.755131Z",
     "iopub.status.busy": "2023-11-23T13:24:30.754981Z",
     "iopub.status.idle": "2023-11-23T13:38:51.207377Z",
     "shell.execute_reply": "2023-11-23T13:38:51.206786Z"
    }
   },
   "outputs": [
    {
     "name": "stdout",
     "output_type": "stream",
     "text": [
      "BLEU = 27.9347279035899447 | CHRF = 55.6091638864515758 | Elapsed Time = 0:14:13.730385\r\n"
     ]
    }
   ],
   "source": [
    "!python score.py --model dict_037.pt \\\n",
    "    --test data/testing/data.norm.tok.bpe.deen \\\n",
    "    --lem-test data/testing/data.norm.tok.lem.de \\\n",
    "    --dict data/dict.json \\\n",
    "    --freq data/freq.de \\\n",
    "    --seed 127 \\"
   ]
  },
  {
   "cell_type": "code",
   "execution_count": 3,
   "metadata": {
    "execution": {
     "iopub.execute_input": "2023-11-23T13:38:51.209620Z",
     "iopub.status.busy": "2023-11-23T13:38:51.209474Z",
     "iopub.status.idle": "2023-11-23T13:53:13.601220Z",
     "shell.execute_reply": "2023-11-23T13:53:13.598646Z"
    }
   },
   "outputs": [
    {
     "name": "stdout",
     "output_type": "stream",
     "text": [
      "BLEU = 28.0246086419360729 | CHRF = 55.6805116548753318 | Elapsed Time = 0:14:15.656372\r\n"
     ]
    }
   ],
   "source": [
    "!python score.py --model dict_037.pt \\\n",
    "    --test data/testing/data.norm.tok.bpe.deen \\\n",
    "    --lem-test data/testing/data.norm.tok.lem.de \\\n",
    "    --dict data/dict.json \\\n",
    "    --freq data/freq.de \\\n",
    "    --bpe-dropout 0.1 \\\n",
    "    --seed 127 \\"
   ]
  },
  {
   "cell_type": "code",
   "execution_count": 4,
   "metadata": {
    "execution": {
     "iopub.execute_input": "2023-11-23T13:53:13.610209Z",
     "iopub.status.busy": "2023-11-23T13:53:13.609484Z",
     "iopub.status.idle": "2023-11-23T14:07:33.527726Z",
     "shell.execute_reply": "2023-11-23T14:07:33.527156Z"
    }
   },
   "outputs": [
    {
     "name": "stdout",
     "output_type": "stream",
     "text": [
      "BLEU = 27.9495758220397512 | CHRF = 55.6211625392193696 | Elapsed Time = 0:14:13.134547\r\n"
     ]
    }
   ],
   "source": [
    "!python score.py --model dict_037.pt \\\n",
    "    --test data/testing/data.norm.tok.bpe.deen \\\n",
    "    --lem-test data/testing/data.norm.tok.lem.de \\\n",
    "    --dict data/dict.json \\\n",
    "    --freq data/freq.de \\\n",
    "    --bpe-dropout 0.2 \\\n",
    "    --seed 127 \\"
   ]
  },
  {
   "cell_type": "code",
   "execution_count": 5,
   "metadata": {
    "execution": {
     "iopub.execute_input": "2023-11-23T14:07:33.530004Z",
     "iopub.status.busy": "2023-11-23T14:07:33.529824Z",
     "iopub.status.idle": "2023-11-23T14:22:17.244684Z",
     "shell.execute_reply": "2023-11-23T14:22:17.244121Z"
    }
   },
   "outputs": [
    {
     "name": "stdout",
     "output_type": "stream",
     "text": [
      "BLEU = 27.9736401213290584 | CHRF = 55.6290043216181900 | Elapsed Time = 0:14:36.884475\r\n"
     ]
    }
   ],
   "source": [
    "!python score.py --model dict_037.pt \\\n",
    "    --test data/testing/data.norm.tok.bpe.deen \\\n",
    "    --lem-test data/testing/data.norm.tok.lem.de \\\n",
    "    --dict data/dict.json \\\n",
    "    --freq data/freq.de \\\n",
    "    --bpe-dropout 0.3 \\\n",
    "    --seed 127 \\"
   ]
  },
  {
   "cell_type": "code",
   "execution_count": 6,
   "metadata": {
    "execution": {
     "iopub.execute_input": "2023-11-23T14:22:17.246932Z",
     "iopub.status.busy": "2023-11-23T14:22:17.246756Z",
     "iopub.status.idle": "2023-11-23T14:36:49.307936Z",
     "shell.execute_reply": "2023-11-23T14:36:49.307370Z"
    }
   },
   "outputs": [
    {
     "name": "stdout",
     "output_type": "stream",
     "text": [
      "BLEU = 27.8674217007002731 | CHRF = 55.5842450588716162 | Elapsed Time = 0:14:25.334494\r\n"
     ]
    }
   ],
   "source": [
    "!python score.py --model dict_037.pt \\\n",
    "    --test data/testing/data.norm.tok.bpe.deen \\\n",
    "    --lem-test data/testing/data.norm.tok.lem.de \\\n",
    "    --dict data/dict.json \\\n",
    "    --freq data/freq.de \\\n",
    "    --bpe-dropout 0.4 \\\n",
    "    --seed 127 \\"
   ]
  },
  {
   "cell_type": "code",
   "execution_count": 7,
   "metadata": {
    "execution": {
     "iopub.execute_input": "2023-11-23T14:36:49.310378Z",
     "iopub.status.busy": "2023-11-23T14:36:49.310182Z",
     "iopub.status.idle": "2023-11-23T14:51:34.588482Z",
     "shell.execute_reply": "2023-11-23T14:51:34.587891Z"
    }
   },
   "outputs": [
    {
     "name": "stdout",
     "output_type": "stream",
     "text": [
      "BLEU = 27.8681892022709050 | CHRF = 55.5585330610469228 | Elapsed Time = 0:14:38.392424\r\n"
     ]
    }
   ],
   "source": [
    "!python score.py --model dict_037.pt \\\n",
    "    --test data/testing/data.norm.tok.bpe.deen \\\n",
    "    --lem-test data/testing/data.norm.tok.lem.de \\\n",
    "    --dict data/dict.json \\\n",
    "    --freq data/freq.de \\\n",
    "    --bpe-dropout 0.5 \\\n",
    "    --seed 127 \\"
   ]
  },
  {
   "cell_type": "code",
   "execution_count": 8,
   "metadata": {
    "execution": {
     "iopub.execute_input": "2023-11-23T14:51:34.590734Z",
     "iopub.status.busy": "2023-11-23T14:51:34.590541Z",
     "iopub.status.idle": "2023-11-23T15:06:04.856430Z",
     "shell.execute_reply": "2023-11-23T15:06:04.855862Z"
    }
   },
   "outputs": [
    {
     "name": "stdout",
     "output_type": "stream",
     "text": [
      "BLEU = 27.9269834086988915 | CHRF = 55.6019709077782522 | Elapsed Time = 0:14:23.541482\r\n"
     ]
    }
   ],
   "source": [
    "!python score.py --model dict_037.pt \\\n",
    "    --test data/testing/data.norm.tok.bpe.deen \\\n",
    "    --lem-test data/testing/data.norm.tok.lem.de \\\n",
    "    --dict data/dict.json \\\n",
    "    --freq data/freq.de \\\n",
    "    --bpe-dropout 0.6 \\\n",
    "    --seed 127 \\"
   ]
  },
  {
   "cell_type": "code",
   "execution_count": 9,
   "metadata": {
    "execution": {
     "iopub.execute_input": "2023-11-23T15:06:04.858592Z",
     "iopub.status.busy": "2023-11-23T15:06:04.858432Z",
     "iopub.status.idle": "2023-11-23T15:20:42.076281Z",
     "shell.execute_reply": "2023-11-23T15:20:42.075724Z"
    }
   },
   "outputs": [
    {
     "name": "stdout",
     "output_type": "stream",
     "text": [
      "BLEU = 27.7981691931948376 | CHRF = 55.5079503664427705 | Elapsed Time = 0:14:30.444144\r\n"
     ]
    }
   ],
   "source": [
    "!python score.py --model dict_037.pt \\\n",
    "    --test data/testing/data.norm.tok.bpe.deen \\\n",
    "    --lem-test data/testing/data.norm.tok.lem.de \\\n",
    "    --dict data/dict.json \\\n",
    "    --freq data/freq.de \\\n",
    "    --bpe-dropout 0.7 \\\n",
    "    --seed 127 \\"
   ]
  },
  {
   "cell_type": "code",
   "execution_count": 10,
   "metadata": {
    "execution": {
     "iopub.execute_input": "2023-11-23T15:20:42.078522Z",
     "iopub.status.busy": "2023-11-23T15:20:42.078326Z",
     "iopub.status.idle": "2023-11-23T15:35:05.427216Z",
     "shell.execute_reply": "2023-11-23T15:35:05.426646Z"
    }
   },
   "outputs": [
    {
     "name": "stdout",
     "output_type": "stream",
     "text": [
      "BLEU = 27.6871955597152315 | CHRF = 55.4217262975009035 | Elapsed Time = 0:14:16.588790\r\n"
     ]
    }
   ],
   "source": [
    "!python score.py --model dict_037.pt \\\n",
    "    --test data/testing/data.norm.tok.bpe.deen \\\n",
    "    --lem-test data/testing/data.norm.tok.lem.de \\\n",
    "    --dict data/dict.json \\\n",
    "    --freq data/freq.de \\\n",
    "    --bpe-dropout 0.8 \\\n",
    "    --seed 127 \\"
   ]
  },
  {
   "cell_type": "code",
   "execution_count": 11,
   "metadata": {
    "execution": {
     "iopub.execute_input": "2023-11-23T15:35:05.429475Z",
     "iopub.status.busy": "2023-11-23T15:35:05.429316Z",
     "iopub.status.idle": "2023-11-23T15:49:43.359748Z",
     "shell.execute_reply": "2023-11-23T15:49:43.359213Z"
    }
   },
   "outputs": [
    {
     "name": "stdout",
     "output_type": "stream",
     "text": [
      "BLEU = 27.7027357428107592 | CHRF = 55.4030145459919225 | Elapsed Time = 0:14:31.151049\r\n"
     ]
    }
   ],
   "source": [
    "!python score.py --model dict_037.pt \\\n",
    "    --test data/testing/data.norm.tok.bpe.deen \\\n",
    "    --lem-test data/testing/data.norm.tok.lem.de \\\n",
    "    --dict data/dict.json \\\n",
    "    --freq data/freq.de \\\n",
    "    --bpe-dropout 0.9 \\\n",
    "    --seed 127 \\"
   ]
  }
 ],
 "metadata": {
  "kernelspec": {
   "display_name": "pytorch",
   "language": "python",
   "name": "python3"
  },
  "language_info": {
   "codemirror_mode": {
    "name": "ipython",
    "version": 3
   },
   "file_extension": ".py",
   "mimetype": "text/x-python",
   "name": "python",
   "nbconvert_exporter": "python",
   "pygments_lexer": "ipython3",
   "version": "3.11.4"
  }
 },
 "nbformat": 4,
 "nbformat_minor": 2
}
